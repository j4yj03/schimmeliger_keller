{
 "cells": [
  {
   "cell_type": "code",
   "execution_count": 3,
   "id": "b3e7c6c5-6eb0-4df3-83b0-2c2d82abba6d",
   "metadata": {},
   "outputs": [],
   "source": [
    "import time\n",
    "import subprocess\n",
    "import select\n",
    "\n",
    "import os\n",
    "\n",
    "import struct"
   ]
  },
  {
   "cell_type": "code",
   "execution_count": 13,
   "id": "f4885bad-cd29-4e84-83ea-cd5158a6a889",
   "metadata": {},
   "outputs": [
    {
     "name": "stdout",
     "output_type": "stream",
     "text": [
      "True\n"
     ]
    }
   ],
   "source": [
    "filename = \"D:/Documents/Uni/Projekt Netzbasierte Systeme/schimmeliger_keller-1/taillogfiles/testlog.txt\"\n",
    "\n",
    "print(os.path.isfile(filename))"
   ]
  },
  {
   "cell_type": "code",
   "execution_count": 14,
   "id": "5d3e3bac-05e6-4ca8-b2ce-a5f39eebd210",
   "metadata": {},
   "outputs": [
    {
     "name": "stdout",
     "output_type": "stream",
     "text": [
      "D:/Documents/Uni/Projekt Netzbasierte Systeme/schimmeliger_keller-1/taillogfiles/testlog.txt\n"
     ]
    },
    {
     "ename": "AttributeError",
     "evalue": "module 'select' has no attribute 'poll'",
     "output_type": "error",
     "traceback": [
      "\u001b[1;31m---------------------------------------------------------------------------\u001b[0m",
      "\u001b[1;31mAttributeError\u001b[0m                            Traceback (most recent call last)",
      "\u001b[1;32m~\\AppData\\Local\\Temp/ipykernel_12292/802300445.py\u001b[0m in \u001b[0;36m<module>\u001b[1;34m\u001b[0m\n\u001b[0;32m      4\u001b[0m \u001b[1;33m\u001b[0m\u001b[0m\n\u001b[0;32m      5\u001b[0m \u001b[0mf\u001b[0m \u001b[1;33m=\u001b[0m \u001b[0msubprocess\u001b[0m\u001b[1;33m.\u001b[0m\u001b[0mPopen\u001b[0m\u001b[1;33m(\u001b[0m\u001b[0mcmd\u001b[0m\u001b[1;33m,\u001b[0m \u001b[0mstdout\u001b[0m\u001b[1;33m=\u001b[0m\u001b[0msubprocess\u001b[0m\u001b[1;33m.\u001b[0m\u001b[0mPIPE\u001b[0m\u001b[1;33m,\u001b[0m \u001b[0mstderr\u001b[0m\u001b[1;33m=\u001b[0m\u001b[0msubprocess\u001b[0m\u001b[1;33m.\u001b[0m\u001b[0mPIPE\u001b[0m\u001b[1;33m)\u001b[0m\u001b[1;33m\u001b[0m\u001b[1;33m\u001b[0m\u001b[0m\n\u001b[1;32m----> 6\u001b[1;33m \u001b[0mp\u001b[0m \u001b[1;33m=\u001b[0m \u001b[0mselect\u001b[0m\u001b[1;33m.\u001b[0m\u001b[0mpoll\u001b[0m\u001b[1;33m(\u001b[0m\u001b[1;33m)\u001b[0m\u001b[1;33m\u001b[0m\u001b[1;33m\u001b[0m\u001b[0m\n\u001b[0m\u001b[0;32m      7\u001b[0m \u001b[1;33m\u001b[0m\u001b[0m\n\u001b[0;32m      8\u001b[0m \u001b[0mp\u001b[0m\u001b[1;33m.\u001b[0m\u001b[0mregister\u001b[0m\u001b[1;33m(\u001b[0m\u001b[0mf\u001b[0m\u001b[1;33m.\u001b[0m\u001b[0mstdout\u001b[0m\u001b[1;33m)\u001b[0m\u001b[1;33m\u001b[0m\u001b[1;33m\u001b[0m\u001b[0m\n",
      "\u001b[1;31mAttributeError\u001b[0m: module 'select' has no attribute 'poll'"
     ]
    }
   ],
   "source": [
    "print(filename)\n",
    "\n",
    "cmd = [\"powershell\", \"-Command\", \"Get-Content\", filename, '-Tail 5', '-Wait']\n",
    "\n",
    "f = subprocess.Popen(cmd, stdout=subprocess.PIPE, stderr=subprocess.PIPE)\n",
    "p = select.poll()\n",
    "\n",
    "p.register(f.stdout)\n",
    "\n",
    "\n",
    "while True:\n",
    "    if p.poll(1):\n",
    "        print (f.stdout.readline())\n",
    "    time.sleep(1)"
   ]
  },
  {
   "cell_type": "code",
   "execution_count": 9,
   "id": "de6e780b-6088-4837-b6fe-b89098627ce5",
   "metadata": {},
   "outputs": [
    {
     "name": "stdout",
     "output_type": "stream",
     "text": [
      "19701103044458 1\n"
     ]
    }
   ],
   "source": [
    "date = \"19701103044458\"\n",
    "blubb = 1\n",
    "\n",
    "\n",
    "print(int(date), blubb)"
   ]
  },
  {
   "cell_type": "code",
   "execution_count": 11,
   "id": "384c89b6-5afb-48b8-be74-f2805f48799f",
   "metadata": {},
   "outputs": [],
   "source": [
    "data = struct.pack('QH', int(date), blubb)"
   ]
  },
  {
   "cell_type": "code",
   "execution_count": null,
   "id": "96e3027c-1253-47bd-b115-bbaf6993dcd9",
   "metadata": {},
   "outputs": [],
   "source": [
    "uData = struct.unpack('QH',  data)"
   ]
  }
 ],
 "metadata": {
  "kernelspec": {
   "display_name": "Python 3 (ipykernel)",
   "language": "python",
   "name": "python3"
  },
  "language_info": {
   "codemirror_mode": {
    "name": "ipython",
    "version": 3
   },
   "file_extension": ".py",
   "mimetype": "text/x-python",
   "name": "python",
   "nbconvert_exporter": "python",
   "pygments_lexer": "ipython3",
   "version": "3.8.10"
  }
 },
 "nbformat": 4,
 "nbformat_minor": 5
}
